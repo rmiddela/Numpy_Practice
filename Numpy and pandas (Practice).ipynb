{
 "cells": [
  {
   "cell_type": "code",
   "execution_count": 1,
   "id": "e60841c5",
   "metadata": {},
   "outputs": [],
   "source": [
    "import numpy as np\n",
    "import pandas as pd"
   ]
  },
  {
   "cell_type": "code",
   "execution_count": 8,
   "id": "ad80dcf3",
   "metadata": {},
   "outputs": [
    {
     "name": "stdout",
     "output_type": "stream",
     "text": [
      "804 627 794 846 820 705 854 89 355 536 229 195 611 149 912 52 322 523 17 61 933 211 153 651 248 289 95 418 273 416 832 983 794 372 976 813 514 254 169 426 439 197 951 327 798 508 607 252 382 138\n"
     ]
    }
   ],
   "source": [
    "arr=np.array(list(map(int,input().strip().split())))"
   ]
  },
  {
   "cell_type": "code",
   "execution_count": 13,
   "id": "f01030c6",
   "metadata": {},
   "outputs": [
    {
     "name": "stdout",
     "output_type": "stream",
     "text": [
      "[[804 627 794 846 820]\n",
      " [705 854  89 355 536]\n",
      " [229 195 611 149 912]\n",
      " [ 52 322 523  17  61]\n",
      " [933 211 153 651 248]\n",
      " [289  95 418 273 416]\n",
      " [832 983 794 372 976]\n",
      " [813 514 254 169 426]\n",
      " [439 197 951 327 798]\n",
      " [508 607 252 382 138]]\n",
      "(10, 5)\n"
     ]
    }
   ],
   "source": [
    "arr=arr.reshape(10,5)\n",
    "print(arr)\n",
    "print(arr.shape)"
   ]
  },
  {
   "cell_type": "code",
   "execution_count": 14,
   "id": "4b2c4e99",
   "metadata": {},
   "outputs": [
    {
     "data": {
      "text/plain": [
       "array([[ 1,  2,  3,  4,  5],\n",
       "       [ 6,  7,  8,  9, 10],\n",
       "       [12, 13, 15, 17, 18]])"
      ]
     },
     "execution_count": 14,
     "metadata": {},
     "output_type": "execute_result"
    }
   ],
   "source": [
    "example = np.array([[1,2,3,4,5], [6,7,8,9,10],[12,13,15,17,18]]) \n",
    "example"
   ]
  },
  {
   "cell_type": "code",
   "execution_count": 17,
   "id": "4ca6220d",
   "metadata": {},
   "outputs": [
    {
     "name": "stdout",
     "output_type": "stream",
     "text": [
      "17\n"
     ]
    }
   ],
   "source": [
    "print(example[2,3])"
   ]
  },
  {
   "cell_type": "code",
   "execution_count": 27,
   "id": "336c0061",
   "metadata": {},
   "outputs": [
    {
     "name": "stdout",
     "output_type": "stream",
     "text": [
      "9 4 8 16 17 11 \n"
     ]
    }
   ],
   "source": [
    "#creating 1-D array to 3-D array\n",
    "arr1=np.array(list(map(int,input().strip().split())),ndmin=5)"
   ]
  },
  {
   "cell_type": "code",
   "execution_count": 28,
   "id": "441f8865",
   "metadata": {},
   "outputs": [
    {
     "data": {
      "text/plain": [
       "array([[[[[ 9,  4,  8, 16, 17, 11]]]]])"
      ]
     },
     "execution_count": 28,
     "metadata": {},
     "output_type": "execute_result"
    }
   ],
   "source": [
    "arr1"
   ]
  },
  {
   "cell_type": "code",
   "execution_count": 35,
   "id": "9d8baf0d",
   "metadata": {},
   "outputs": [
    {
     "name": "stdout",
     "output_type": "stream",
     "text": [
      "Enter how many rows required: 4\n",
      "1 2 3 4\n",
      "5 6 7 8\n",
      "9 10 11 12\n",
      "13 14 15 16\n"
     ]
    }
   ],
   "source": [
    "n=int(input('Enter how many rows required: '))\n",
    "arr2=np.array([list(map(int,input().split())) for i in range(n)])"
   ]
  },
  {
   "cell_type": "code",
   "execution_count": 37,
   "id": "e338672a",
   "metadata": {},
   "outputs": [
    {
     "data": {
      "text/plain": [
       "array([[ 1,  2,  3,  4],\n",
       "       [ 5,  6,  7,  8],\n",
       "       [ 9, 10, 11, 12],\n",
       "       [13, 14, 15, 16]])"
      ]
     },
     "execution_count": 37,
     "metadata": {},
     "output_type": "execute_result"
    }
   ],
   "source": [
    "arr2"
   ]
  },
  {
   "cell_type": "code",
   "execution_count": 38,
   "id": "6597f014",
   "metadata": {},
   "outputs": [
    {
     "data": {
      "text/plain": [
       "array([[1, 3],\n",
       "       [5, 7]])"
      ]
     },
     "execution_count": 38,
     "metadata": {},
     "output_type": "execute_result"
    }
   ],
   "source": [
    "arr2[0:2,0:4:2]"
   ]
  },
  {
   "cell_type": "code",
   "execution_count": null,
   "id": "56cad181",
   "metadata": {},
   "outputs": [],
   "source": [
    "#numpy broadcasting"
   ]
  },
  {
   "cell_type": "code",
   "execution_count": 39,
   "id": "9663c4d8",
   "metadata": {},
   "outputs": [
    {
     "name": "stdout",
     "output_type": "stream",
     "text": [
      "Enter number of rows4\n",
      "1 2 3 4 \n",
      "5 6 7 8 \n",
      "9 10 11 12\n",
      "13 14 15 16\n"
     ]
    }
   ],
   "source": [
    "n=int(input('Enter number of rows'))\n",
    "arr=np.array([list(map(int,input().strip().split())) for i in range(n)])"
   ]
  },
  {
   "cell_type": "code",
   "execution_count": 41,
   "id": "002460f7",
   "metadata": {},
   "outputs": [
    {
     "data": {
      "text/plain": [
       "array([[ 0,  1,  2,  3],\n",
       "       [ 4,  5,  6,  7],\n",
       "       [ 8,  9, 10, 11],\n",
       "       [12, 13, 14, 15]])"
      ]
     },
     "execution_count": 41,
     "metadata": {},
     "output_type": "execute_result"
    }
   ],
   "source": [
    "arr+1-2"
   ]
  },
  {
   "cell_type": "code",
   "execution_count": 42,
   "id": "406f892d",
   "metadata": {},
   "outputs": [
    {
     "name": "stdout",
     "output_type": "stream",
     "text": [
      "2\n",
      "1 2\n",
      "3 4\n"
     ]
    }
   ],
   "source": [
    "n=int(input())\n",
    "arr=np.array([list(map(int,input().split())) for i in range(n)])"
   ]
  },
  {
   "cell_type": "code",
   "execution_count": 43,
   "id": "3894467d",
   "metadata": {},
   "outputs": [
    {
     "data": {
      "text/plain": [
       "array([[1, 2],\n",
       "       [3, 4]])"
      ]
     },
     "execution_count": 43,
     "metadata": {},
     "output_type": "execute_result"
    }
   ],
   "source": [
    "arr"
   ]
  },
  {
   "cell_type": "code",
   "execution_count": 51,
   "id": "962316c0",
   "metadata": {},
   "outputs": [
    {
     "data": {
      "text/plain": [
       "array([1, 2, 3, 4])"
      ]
     },
     "execution_count": 51,
     "metadata": {},
     "output_type": "execute_result"
    }
   ],
   "source": [
    "arr=arr.flatten()\n",
    "arr"
   ]
  },
  {
   "cell_type": "code",
   "execution_count": 50,
   "id": "0c7fc6ad",
   "metadata": {},
   "outputs": [
    {
     "data": {
      "text/plain": [
       "(4,)"
      ]
     },
     "execution_count": 50,
     "metadata": {},
     "output_type": "execute_result"
    }
   ],
   "source": [
    "arr.shape"
   ]
  },
  {
   "cell_type": "code",
   "execution_count": null,
   "id": "e9af3513",
   "metadata": {},
   "outputs": [],
   "source": [
    "#Numpy search where"
   ]
  },
  {
   "cell_type": "code",
   "execution_count": 73,
   "id": "8cc77d4e",
   "metadata": {},
   "outputs": [
    {
     "name": "stdout",
     "output_type": "stream",
     "text": [
      "2 1 2 3 4 5 8 7 8\n"
     ]
    }
   ],
   "source": [
    "arr=list(map(int,input().strip().split()))\n",
    "arr=np.array(arr)"
   ]
  },
  {
   "cell_type": "code",
   "execution_count": 74,
   "id": "d3690493",
   "metadata": {},
   "outputs": [],
   "source": [
    "arr=np.where(arr==8)"
   ]
  },
  {
   "cell_type": "code",
   "execution_count": 75,
   "id": "d4b295a7",
   "metadata": {},
   "outputs": [
    {
     "data": {
      "text/plain": [
       "(array([6, 8], dtype=int64),)"
      ]
     },
     "execution_count": 75,
     "metadata": {},
     "output_type": "execute_result"
    }
   ],
   "source": [
    "arr"
   ]
  },
  {
   "cell_type": "code",
   "execution_count": null,
   "id": "17e944fe",
   "metadata": {},
   "outputs": [],
   "source": [
    "#Numpy search string locations"
   ]
  },
  {
   "cell_type": "code",
   "execution_count": 81,
   "id": "044e6fed",
   "metadata": {},
   "outputs": [
    {
     "name": "stdout",
     "output_type": "stream",
     "text": [
      " Apple Banana Apple Apple Banana\n",
      "Apple occures 3 times in the list at [0 2 3] location\n"
     ]
    }
   ],
   "source": [
    "# n=int(input('enter input for first arr:'))\n",
    "x=(np.array((input().split())))\n",
    "y=(np.where(x==\"Apple\"))[0]\n",
    "print(\"Apple occures {} times in the list at {} location\".format(len(y),y))"
   ]
  },
  {
   "cell_type": "code",
   "execution_count": null,
   "id": "3f8c7ef5",
   "metadata": {},
   "outputs": [],
   "source": [
    "#Nisha is having list of the people's height in inches. \n",
    "#She wants to convert height into centimeters. \n",
    "#Help her to complete her task by writing a python code using NumPy library."
   ]
  },
  {
   "cell_type": "code",
   "execution_count": 3,
   "id": "7566b30b",
   "metadata": {},
   "outputs": [
    {
     "name": "stdout",
     "output_type": "stream",
     "text": [
      "48 49 50\n"
     ]
    }
   ],
   "source": [
    "arr=np.array(list(map(int,input().strip().split())))\n",
    "arr_new=arr*2.54\n"
   ]
  },
  {
   "cell_type": "code",
   "execution_count": 4,
   "id": "ac97f002",
   "metadata": {},
   "outputs": [
    {
     "data": {
      "text/plain": [
       "array([121.92, 124.46, 127.  ])"
      ]
     },
     "execution_count": 4,
     "metadata": {},
     "output_type": "execute_result"
    }
   ],
   "source": [
    "arr_new.round(2)"
   ]
  },
  {
   "cell_type": "code",
   "execution_count": null,
   "id": "41ceabb9",
   "metadata": {},
   "outputs": [],
   "source": [
    "#You are given two space-separated numbers in the input for forming a range. \n",
    "#The first number is odd. \n",
    "#Your task is to create a NumPy array of the even numbers in the given range."
   ]
  },
  {
   "cell_type": "code",
   "execution_count": 22,
   "id": "36bbce0c",
   "metadata": {},
   "outputs": [
    {
     "name": "stdout",
     "output_type": "stream",
     "text": [
      "1 12\n",
      "[ 2  4  6  8 10]\n"
     ]
    }
   ],
   "source": [
    "m,n=map(int,(input().split()))\n",
    "x=np.arange(m+1,n,2)\n",
    "print(x)"
   ]
  },
  {
   "cell_type": "code",
   "execution_count": null,
   "id": "8312bb61",
   "metadata": {},
   "outputs": [],
   "source": [
    "#You are given two space-separated integers in the input. \n",
    "#Your task is to create a NumPy array by dividing the range into n number of eqaul elements. \n",
    "#Also, print the shape of the array."
   ]
  },
  {
   "cell_type": "code",
   "execution_count": 30,
   "id": "10b8d098",
   "metadata": {},
   "outputs": [
    {
     "name": "stdout",
     "output_type": "stream",
     "text": [
      "1 10\n"
     ]
    }
   ],
   "source": [
    "a,b=map(int,(input().split())))"
   ]
  },
  {
   "cell_type": "code",
   "execution_count": 27,
   "id": "baa702cb",
   "metadata": {},
   "outputs": [
    {
     "name": "stdout",
     "output_type": "stream",
     "text": [
      "number of elements of range5\n"
     ]
    }
   ],
   "source": [
    "c=int(input('number of elements of range'))"
   ]
  },
  {
   "cell_type": "code",
   "execution_count": 28,
   "id": "22b4f47c",
   "metadata": {},
   "outputs": [
    {
     "data": {
      "text/plain": [
       "5"
      ]
     },
     "execution_count": 28,
     "metadata": {},
     "output_type": "execute_result"
    }
   ],
   "source": [
    "c"
   ]
  },
  {
   "cell_type": "code",
   "execution_count": 34,
   "id": "56c61f88",
   "metadata": {},
   "outputs": [
    {
     "name": "stdout",
     "output_type": "stream",
     "text": [
      "[ 1.    3.25  5.5   7.75 10.  ]\n",
      "(5,)\n"
     ]
    }
   ],
   "source": [
    "d=np.linspace(a,b,c)\n",
    "print(d)\n",
    "print(d.shape)"
   ]
  },
  {
   "cell_type": "code",
   "execution_count": null,
   "id": "79ba7899",
   "metadata": {},
   "outputs": [],
   "source": [
    "#You are given three lines of input. Each line has three space-separated integers. \n",
    "#Your task is to create a NumPy array as follows. \n",
    "#1) 1 D array of the shape (3,) from the first line of the input\n",
    "\n",
    "#2) 2 D array of the shape (2,3) from the first line and second line of the input\n",
    "\n",
    "#3) 2 D array of the shape (3,3) from all lines of the inputs\n",
    "\n",
    "#print arrays and their shapes one after another."
   ]
  },
  {
   "cell_type": "code",
   "execution_count": 35,
   "id": "45053376",
   "metadata": {},
   "outputs": [
    {
     "name": "stdout",
     "output_type": "stream",
     "text": [
      "enter number of lines of output:3\n",
      "1 2 3\n",
      "4 5 6\n",
      "7 8 9\n"
     ]
    }
   ],
   "source": [
    "n=int(input('enter number of lines of output:'))\n",
    "x=np.array([list(map(int,input().strip().split())) for i in range(n)])"
   ]
  },
  {
   "cell_type": "code",
   "execution_count": 36,
   "id": "6faffccb",
   "metadata": {},
   "outputs": [
    {
     "data": {
      "text/plain": [
       "array([[1, 2, 3],\n",
       "       [4, 5, 6],\n",
       "       [7, 8, 9]])"
      ]
     },
     "execution_count": 36,
     "metadata": {},
     "output_type": "execute_result"
    }
   ],
   "source": [
    "x"
   ]
  },
  {
   "cell_type": "code",
   "execution_count": 39,
   "id": "990b79bc",
   "metadata": {},
   "outputs": [
    {
     "name": "stdout",
     "output_type": "stream",
     "text": [
      "[1 2 3]\n",
      "(3,)\n",
      "[[1 2 3]\n",
      " [4 5 6]]\n",
      "(2, 3)\n",
      "[[1 2 3]\n",
      " [4 5 6]\n",
      " [7 8 9]]\n",
      "(3, 3)\n"
     ]
    }
   ],
   "source": [
    "a=x[0,:]\n",
    "print(a)\n",
    "print(a.shape)\n",
    "b=x[0:2,:]\n",
    "print(b)\n",
    "print(b.shape)\n",
    "c=x[0:3,:]\n",
    "print(c)\n",
    "print(c.shape)"
   ]
  },
  {
   "cell_type": "code",
   "execution_count": null,
   "id": "5fa52962",
   "metadata": {},
   "outputs": [],
   "source": [
    "#You are given an integer n. Your task is to create:\n",
    "\n",
    "#1) a NumPy array of zeros as a float of the shape n\n",
    "\n",
    "#2) a NumPy array of zeros as int of the shape nxn\n",
    "\n",
    "#3) a NumPy array of ones as int of the shape n\n",
    "\n",
    "#4) a NumPy array of ones as a float of the shape nxn"
   ]
  },
  {
   "cell_type": "code",
   "execution_count": 42,
   "id": "bd5822b0",
   "metadata": {},
   "outputs": [
    {
     "name": "stdout",
     "output_type": "stream",
     "text": [
      "3\n"
     ]
    }
   ],
   "source": [
    "n=int(input())"
   ]
  },
  {
   "cell_type": "code",
   "execution_count": 62,
   "id": "6413e466",
   "metadata": {},
   "outputs": [],
   "source": [
    "a=np.zeros(n)\n",
    "b=np.zeros((n,n),dtype=int)\n",
    "c=np.ones(n,dtype=int)\n",
    "d=np.ones((n,n))"
   ]
  },
  {
   "cell_type": "code",
   "execution_count": 63,
   "id": "ded2b2e1",
   "metadata": {},
   "outputs": [
    {
     "name": "stdout",
     "output_type": "stream",
     "text": [
      "[0. 0. 0.]\n",
      "3\n",
      "1\n",
      "float64\n",
      "[[0 0 0]\n",
      " [0 0 0]\n",
      " [0 0 0]]\n",
      "9\n",
      "2\n",
      "int32\n",
      "[1 1 1]\n",
      "3\n",
      "1\n",
      "int32\n",
      "[[1. 1. 1.]\n",
      " [1. 1. 1.]\n",
      " [1. 1. 1.]]\n",
      "9\n",
      "2\n",
      "float64\n"
     ]
    }
   ],
   "source": [
    "print(a)\n",
    "print(a.size)\n",
    "print(a.ndim)\n",
    "print(a.dtype)\n",
    "print(b)\n",
    "print(b.size)\n",
    "print(b.ndim)\n",
    "print(b.dtype)\n",
    "print(c)\n",
    "print(c.size)\n",
    "print(c.ndim)\n",
    "print(c.dtype)\n",
    "print(d)\n",
    "print(d.size)\n",
    "print(d.ndim)\n",
    "print(d.dtype)"
   ]
  },
  {
   "cell_type": "code",
   "execution_count": null,
   "id": "571369be",
   "metadata": {},
   "outputs": [],
   "source": [
    "#You are given an input of space-separated six integers. \n",
    "#Your task is to create a 1D NumPy array and slice the array like\n",
    "\n",
    "#1) first two elements as an NumPy array\n",
    "\n",
    "#2) elements form the first index till the fourth index as an NumPy array\n",
    "\n",
    "#3) last two elements as an NumPy array\n",
    "\n",
    "#The print shape of each array includes the original array."
   ]
  },
  {
   "cell_type": "code",
   "execution_count": 87,
   "id": "8cd3f2da",
   "metadata": {},
   "outputs": [
    {
     "name": "stdout",
     "output_type": "stream",
     "text": [
      "1 2 3 4 5 6\n"
     ]
    }
   ],
   "source": [
    "a=np.array(list(map(int,input().split())))"
   ]
  },
  {
   "cell_type": "code",
   "execution_count": 88,
   "id": "eb22721e",
   "metadata": {},
   "outputs": [
    {
     "data": {
      "text/plain": [
       "array([1, 2, 3, 4, 5, 6])"
      ]
     },
     "execution_count": 88,
     "metadata": {},
     "output_type": "execute_result"
    }
   ],
   "source": [
    "a"
   ]
  },
  {
   "cell_type": "code",
   "execution_count": 92,
   "id": "9a27c26f",
   "metadata": {},
   "outputs": [
    {
     "name": "stdout",
     "output_type": "stream",
     "text": [
      "[1 2]\n",
      "(2,)\n",
      "[2 3 4 5]\n",
      "(4,)\n",
      "[5 6]\n",
      "(2,)\n"
     ]
    }
   ],
   "source": [
    "print(a[0:2])\n",
    "print(a[0:2].shape)\n",
    "print(a[1:5])\n",
    "print(a[1:5].shape)\n",
    "print(a[-2:])\n",
    "print(a[-2:].shape)"
   ]
  },
  {
   "cell_type": "code",
   "execution_count": null,
   "id": "2ad75bf6",
   "metadata": {},
   "outputs": [],
   "source": [
    "#You are given a line of input that contains six space-separated integers. Your task is to create\n",
    "\n",
    "#1) 1D NumPy array, arr1.\n",
    "\n",
    "#2) reshape that array with shape (2,3) as arr2.\n",
    "\n",
    "#3) reshape the arr1 array with shape (2,3,1) as arr3.\n",
    "\n",
    "#4) reshape arr3 array as a 1D array as arr4.\n",
    "\n",
    "#print shapes and dimensions of each array."
   ]
  },
  {
   "cell_type": "code",
   "execution_count": 93,
   "id": "c6915cda",
   "metadata": {},
   "outputs": [
    {
     "name": "stdout",
     "output_type": "stream",
     "text": [
      "1 2 3 4 5 6\n"
     ]
    }
   ],
   "source": [
    "a=(np.array(list(map(int,input().split()))))"
   ]
  },
  {
   "cell_type": "code",
   "execution_count": 95,
   "id": "ec0f7c2e",
   "metadata": {},
   "outputs": [
    {
     "name": "stdout",
     "output_type": "stream",
     "text": [
      "[1 2 3 4 5 6]\n"
     ]
    }
   ],
   "source": [
    "print(a)"
   ]
  },
  {
   "cell_type": "code",
   "execution_count": 107,
   "id": "6b7a445f",
   "metadata": {},
   "outputs": [],
   "source": [
    "arr1=a\n",
    "arr2=a.reshape(2,3)\n",
    "arr3=a.reshape(2,3,1)\n",
    "arr4=arr3.flatten()"
   ]
  },
  {
   "cell_type": "code",
   "execution_count": 113,
   "id": "298ae88d",
   "metadata": {},
   "outputs": [
    {
     "name": "stdout",
     "output_type": "stream",
     "text": [
      "[1 2 3 4 5 6]\n",
      "(6,)\n",
      "1\n",
      "[[1 2 3]\n",
      " [4 5 6]]\n",
      "(2, 3)\n",
      "2\n",
      "[[[1]\n",
      "  [2]\n",
      "  [3]]\n",
      "\n",
      " [[4]\n",
      "  [5]\n",
      "  [6]]]\n",
      "(2, 3, 1)\n",
      "3\n",
      "[1 2 3 4 5 6]\n",
      "(6,)\n",
      "1\n"
     ]
    }
   ],
   "source": [
    "print(arr1)\n",
    "print(arr1.shape)\n",
    "print(arr1.ndim)\n",
    "print(arr2)\n",
    "print(arr2.shape)\n",
    "print(arr2.ndim)\n",
    "print(arr3)\n",
    "print(arr3.shape)\n",
    "print(arr3.ndim)\n",
    "print(arr4)\n",
    "print(arr4.shape)\n",
    "print(arr4.ndim)"
   ]
  },
  {
   "cell_type": "code",
   "execution_count": null,
   "id": "9b68a0b0",
   "metadata": {},
   "outputs": [],
   "source": [
    "#You are given n lines of input and each line contains n space-separated integers. \n",
    "#Your task is to create a NumPy array of size nxn and grab the element present at (nth row, nth column) position"
   ]
  },
  {
   "cell_type": "code",
   "execution_count": 120,
   "id": "6107930e",
   "metadata": {},
   "outputs": [
    {
     "name": "stdout",
     "output_type": "stream",
     "text": [
      "2\n",
      "1 2\n",
      "3 4\n",
      "[[1 2]\n",
      " [3 4]]\n",
      "4\n"
     ]
    }
   ],
   "source": [
    "import numpy as np \n",
    "n=int(input())\n",
    "arr=np.array([list(map(int,input().split())) for i in range(n)])\n",
    "print(arr)\n",
    "print(arr[n-1,n-1])"
   ]
  },
  {
   "cell_type": "code",
   "execution_count": null,
   "id": "dd09e2c3",
   "metadata": {},
   "outputs": [],
   "source": [
    "#There is n number of workers are working on a construction site. \n",
    "#Each of them is having different hourly rate in rupees and also they work for a different number of hours in a day. \n",
    "#While moving out from the site they get their salary in hand. \n",
    "#Your task is to create a numpy array which contains names and their daily wages"
   ]
  },
  {
   "cell_type": "code",
   "execution_count": 127,
   "id": "418f70e5",
   "metadata": {},
   "outputs": [
    {
     "name": "stdout",
     "output_type": "stream",
     "text": [
      "John Johnny Janardhan\n",
      "250.5 160.5 200.0\n",
      "5 6 8\n"
     ]
    }
   ],
   "source": [
    "names=list(input().split())\n",
    "rate=np.array(list(map(float,input().split())))\n",
    "hours=np.array(list(map(int,input().split())))"
   ]
  },
  {
   "cell_type": "code",
   "execution_count": 128,
   "id": "8a890f2b",
   "metadata": {},
   "outputs": [
    {
     "name": "stdout",
     "output_type": "stream",
     "text": [
      "[['John' 'Johnny' 'Janardhan']\n",
      " ['1252.5' '963.0' '1600.0']]\n"
     ]
    }
   ],
   "source": [
    "wage=rate*hours\n",
    "print(np.array([names,wage]))"
   ]
  },
  {
   "cell_type": "code",
   "execution_count": null,
   "id": "8f8294bf",
   "metadata": {},
   "outputs": [],
   "source": [
    "#You are given two 2D NumPy arrays. Concatenate them column-wise and row-wise."
   ]
  },
  {
   "cell_type": "code",
   "execution_count": 130,
   "id": "1389cf11",
   "metadata": {},
   "outputs": [
    {
     "name": "stdout",
     "output_type": "stream",
     "text": [
      "2\n",
      "1 2 3\n",
      "4 5 6\n",
      "2\n",
      "6 7 8\n",
      "9 10 11\n"
     ]
    }
   ],
   "source": [
    "n=int(input())\n",
    "x=np.array([list(map(int,input().split())) for i in range(n)])\n",
    "m=int(input())\n",
    "y=np.array([list(map(int,input().split())) for i in range(m)])"
   ]
  },
  {
   "cell_type": "code",
   "execution_count": 132,
   "id": "09f9d2c7",
   "metadata": {},
   "outputs": [
    {
     "name": "stdout",
     "output_type": "stream",
     "text": [
      "[[1 2 3]\n",
      " [4 5 6]]\n",
      "[[ 6  7  8]\n",
      " [ 9 10 11]]\n"
     ]
    }
   ],
   "source": [
    "print(x)\n",
    "print(y)"
   ]
  },
  {
   "cell_type": "code",
   "execution_count": 138,
   "id": "51ee20fb",
   "metadata": {},
   "outputs": [
    {
     "data": {
      "text/plain": [
       "array([[ 1,  2,  3,  6,  7,  8],\n",
       "       [ 4,  5,  6,  9, 10, 11]])"
      ]
     },
     "execution_count": 138,
     "metadata": {},
     "output_type": "execute_result"
    }
   ],
   "source": [
    "np.concatenate((x,y),axis=1)"
   ]
  },
  {
   "cell_type": "code",
   "execution_count": 139,
   "id": "9d499218",
   "metadata": {},
   "outputs": [
    {
     "data": {
      "text/plain": [
       "array([[ 1,  2,  3],\n",
       "       [ 4,  5,  6],\n",
       "       [ 6,  7,  8],\n",
       "       [ 9, 10, 11]])"
      ]
     },
     "execution_count": 139,
     "metadata": {},
     "output_type": "execute_result"
    }
   ],
   "source": [
    "np.concatenate((x,y),axis=0)"
   ]
  },
  {
   "cell_type": "code",
   "execution_count": null,
   "id": "9b06ce70",
   "metadata": {},
   "outputs": [],
   "source": [
    "#You are given m number of space-separated integers for a 1D Numpy array. \n",
    "#Your task is to find out the index of the numbers in the NumPy array given in the list."
   ]
  },
  {
   "cell_type": "code",
   "execution_count": 143,
   "id": "6b098e91",
   "metadata": {},
   "outputs": [
    {
     "name": "stdout",
     "output_type": "stream",
     "text": [
      "1 2 3 4 5 6\n",
      "2 5\n",
      "(array([1], dtype=int64),)\n",
      "(array([4], dtype=int64),)\n"
     ]
    }
   ],
   "source": [
    "z=np.array(list(map(int,input().split())))\n",
    "x=list(map(int,input().split()))\n",
    "for i in x:\n",
    "    print(np.where(z==i))"
   ]
  },
  {
   "cell_type": "code",
   "execution_count": 147,
   "id": "620f9218",
   "metadata": {},
   "outputs": [
    {
     "data": {
      "text/plain": [
       "(array([0], dtype=int64),)"
      ]
     },
     "execution_count": 147,
     "metadata": {},
     "output_type": "execute_result"
    }
   ],
   "source": [
    "a=np.array([1,2,3,4,5,6])\n",
    "np.where(a==1)"
   ]
  },
  {
   "cell_type": "code",
   "execution_count": null,
   "id": "41379135",
   "metadata": {},
   "outputs": [],
   "source": [
    "#You are given a Numpy array which contains the heights of the people in the inches. \n",
    "#Your task is to convert the values into centimeters and then sort them in ascending order."
   ]
  },
  {
   "cell_type": "code",
   "execution_count": 152,
   "id": "a3c773e4",
   "metadata": {},
   "outputs": [
    {
     "name": "stdout",
     "output_type": "stream",
     "text": [
      "55 60 54 53 62 58 59\n"
     ]
    }
   ],
   "source": [
    "heights=np.array(list(map(int,input().split())))"
   ]
  },
  {
   "cell_type": "code",
   "execution_count": 153,
   "id": "2bb85df5",
   "metadata": {},
   "outputs": [],
   "source": [
    "height_in_cm=heights*2.54"
   ]
  },
  {
   "cell_type": "code",
   "execution_count": 154,
   "id": "c02b3abd",
   "metadata": {},
   "outputs": [
    {
     "data": {
      "text/plain": [
       "array([134.62, 137.16, 139.7 , 147.32, 149.86, 152.4 , 157.48])"
      ]
     },
     "execution_count": 154,
     "metadata": {},
     "output_type": "execute_result"
    }
   ],
   "source": [
    "np.sort(height_in_cm)"
   ]
  },
  {
   "cell_type": "code",
   "execution_count": null,
   "id": "47fdb4e2",
   "metadata": {},
   "outputs": [],
   "source": [
    "#Roots of a polynomial equation"
   ]
  },
  {
   "cell_type": "code",
   "execution_count": 157,
   "id": "bba73e4a",
   "metadata": {},
   "outputs": [
    {
     "name": "stdout",
     "output_type": "stream",
     "text": [
      "[ 3.   -2.   -0.25]\n",
      "[ 5.+0.j -3.+0.j -0.+2.j -0.-2.j  2.+0.j]\n"
     ]
    }
   ],
   "source": [
    "print(np.roots([4,-3,-25,-6]))\n",
    "print(np.round(np.roots([1,-4,-7,14,-44,120])))"
   ]
  },
  {
   "cell_type": "code",
   "execution_count": null,
   "id": "14084e97",
   "metadata": {},
   "outputs": [],
   "source": [
    "#leading and trailing space removal numpy\n",
    "#[' python exercises ', '    Pandas     ', '    Numpy    ', '      Board Infinity']"
   ]
  },
  {
   "cell_type": "code",
   "execution_count": 166,
   "id": "adf27c63",
   "metadata": {},
   "outputs": [
    {
     "data": {
      "text/plain": [
       "array(['python exercises', 'Pandas', 'Numpy', 'Board Infinity'],\n",
       "      dtype='<U20')"
      ]
     },
     "execution_count": 166,
     "metadata": {},
     "output_type": "execute_result"
    }
   ],
   "source": [
    "list1=np.array([' python exercises ', '    Pandas     ', '    Numpy    ', '      Board Infinity'])\n",
    "np.char.strip(list1)\n"
   ]
  },
  {
   "cell_type": "code",
   "execution_count": null,
   "id": "d2865d0a",
   "metadata": {},
   "outputs": [],
   "source": [
    "#Numpy array slicing"
   ]
  },
  {
   "cell_type": "code",
   "execution_count": 167,
   "id": "a023667e",
   "metadata": {},
   "outputs": [
    {
     "data": {
      "text/plain": [
       "array([[ 1,  2,  3,  4,  5],\n",
       "       [ 6,  7,  8,  9, 10],\n",
       "       [12, 13, 15, 17, 18]])"
      ]
     },
     "execution_count": 167,
     "metadata": {},
     "output_type": "execute_result"
    }
   ],
   "source": [
    "import numpy as np \n",
    "example = np.array([[1,2,3,4,5], [6,7,8,9,10],[12,13,15,17,18]]) \n",
    "example"
   ]
  },
  {
   "cell_type": "code",
   "execution_count": 170,
   "id": "48ca030e",
   "metadata": {},
   "outputs": [
    {
     "data": {
      "text/plain": [
       "17"
      ]
     },
     "execution_count": 170,
     "metadata": {},
     "output_type": "execute_result"
    }
   ],
   "source": [
    "example[2,3]"
   ]
  },
  {
   "cell_type": "code",
   "execution_count": null,
   "id": "cee78bc5",
   "metadata": {},
   "outputs": [],
   "source": [
    "#changing data type of an array\n",
    "#You are given 1D numpy array. Change the array of floats to an array of integers and print the new array and it's datatype.\n",
    "\n",
    "#All column data is of object datatype.Change it to appropriate datatype and then apply logic\n",
    "\n",
    "#All column data is of object datatype.Change it to appropriate datatype and then apply logic\n",
    "\n",
    "#All column data is of object datatype.Change it to appropriate datatype and then apply logic"
   ]
  },
  {
   "cell_type": "code",
   "execution_count": 174,
   "id": "03cd859f",
   "metadata": {},
   "outputs": [
    {
     "data": {
      "text/plain": [
       "array([1.3, 2.2, 3.1])"
      ]
     },
     "execution_count": 174,
     "metadata": {},
     "output_type": "execute_result"
    }
   ],
   "source": [
    "arr = np.array([1.3, 2.2, 3.1]) \n",
    "arr"
   ]
  },
  {
   "cell_type": "code",
   "execution_count": 184,
   "id": "1d027c5b",
   "metadata": {},
   "outputs": [
    {
     "name": "stdout",
     "output_type": "stream",
     "text": [
      "[1 2 3]\n",
      "int32\n"
     ]
    }
   ],
   "source": [
    "arr=arr.astype('i')\n",
    "print(arr)\n",
    "print(arr.dtype)"
   ]
  },
  {
   "cell_type": "code",
   "execution_count": null,
   "id": "1c411771",
   "metadata": {},
   "outputs": [],
   "source": [
    "#Use of copy function in numpy"
   ]
  },
  {
   "cell_type": "code",
   "execution_count": 191,
   "id": "6c5b6fb8",
   "metadata": {},
   "outputs": [
    {
     "name": "stdout",
     "output_type": "stream",
     "text": [
      "[25  2  8  7]\n"
     ]
    }
   ],
   "source": [
    "import numpy as np \n",
    "arr = np.array([25,60,8,7]) \n",
    "a=arr.copy() #copying an array\n",
    "a[1]=2\n",
    "print(a)"
   ]
  },
  {
   "cell_type": "code",
   "execution_count": null,
   "id": "571aa4b0",
   "metadata": {},
   "outputs": [],
   "source": [
    "#Find repetitive element in numpy arrar"
   ]
  },
  {
   "cell_type": "code",
   "execution_count": 193,
   "id": "843a25e3",
   "metadata": {},
   "outputs": [
    {
     "name": "stdout",
     "output_type": "stream",
     "text": [
      "1 2 3 2 1 2 4 5 6\n",
      "[1, 2, 2]\n"
     ]
    }
   ],
   "source": [
    "import numpy as np\n",
    "def array(arr):\n",
    "    arr1=np.array(arr,dtype=int) \n",
    "    save=[]\n",
    "    sorts=sorted(arr1)\n",
    "    for i in range(len(arr1)):\n",
    "        if sorts[i-1]==sorts[i]:\n",
    "            save.append(sorts[i])\n",
    "    return save\n",
    "arr=input().strip().split()\n",
    "print(array(arr))"
   ]
  },
  {
   "cell_type": "code",
   "execution_count": 194,
   "id": "347a4f18",
   "metadata": {},
   "outputs": [],
   "source": [
    "#create padding in numpy array"
   ]
  },
  {
   "cell_type": "code",
   "execution_count": 195,
   "id": "ee7d5884",
   "metadata": {},
   "outputs": [
    {
     "name": "stdout",
     "output_type": "stream",
     "text": [
      "804 627 794\n",
      "705 854 89\n",
      "229 195 611\n",
      "[[  1   1   1   1   1   1   1   1   1]\n",
      " [  1   1   1   1   1   1   1   1   1]\n",
      " [  1   1   1   1   1   1   1   1   1]\n",
      " [  1   1   1 804 627 794   1   1   1]\n",
      " [  1   1   1 804 627 794   1   1   1]\n",
      " [  1   1   1 705 854  89   1   1   1]\n",
      " [  1   1   1   1   1   1   1   1   1]\n",
      " [  1   1   1   1   1   1   1   1   1]\n",
      " [  1   1   1   1   1   1   1   1   1]]\n"
     ]
    }
   ],
   "source": [
    "import numpy as np\n",
    "def array(arr1,arr2,arr3):\n",
    "    arr1=np.array(arr1,dtype=int)\n",
    "    arr2=np.array(arr2,dtype=int)\n",
    "    arr3=np.array(arr3,dtype=int)\n",
    "#Write your code here\n",
    "    arr=np.array([arr1,arr1,arr2])\n",
    "    return np.pad(arr,pad_width=3,mode='constant',constant_values=1)\n",
    "arr1=input().strip().split()\n",
    "arr2=input().strip().split()\n",
    "arr3=input().strip().split()\n",
    "\n",
    "print(array(arr1,arr2,arr3))"
   ]
  },
  {
   "cell_type": "code",
   "execution_count": null,
   "id": "8267bc28",
   "metadata": {},
   "outputs": [],
   "source": [
    "#numpy unique values and frequency of the unique numbers\n",
    "#You are given a space separated array of numbers. \n",
    "#Write a numpy program to get all the unique elements in that array and also return the frequency of that unique numbers."
   ]
  },
  {
   "cell_type": "code",
   "execution_count": 196,
   "id": "39f5bb24",
   "metadata": {},
   "outputs": [
    {
     "name": "stdout",
     "output_type": "stream",
     "text": [
      "1 2 3 5 4 8 9 2 5 7 9 2 9\n",
      "(array([1, 2, 3, 4, 5, 7, 8, 9]), array([1, 3, 1, 1, 2, 1, 1, 3], dtype=int64))\n"
     ]
    }
   ],
   "source": [
    "import numpy as np\n",
    "def array(arr):\n",
    "    arr=np.array(arr,dtype=int)\n",
    "    \n",
    "    unique, frequency = np.unique(arr,return_counts = True)\n",
    "    \n",
    "    return unique,frequency\n",
    "\n",
    "arr=input().strip().split()\n",
    "\n",
    "print(array(arr))"
   ]
  },
  {
   "cell_type": "code",
   "execution_count": null,
   "id": "36a26ffb",
   "metadata": {},
   "outputs": [],
   "source": []
  },
  {
   "cell_type": "code",
   "execution_count": null,
   "id": "64d3462c",
   "metadata": {},
   "outputs": [],
   "source": []
  },
  {
   "cell_type": "code",
   "execution_count": null,
   "id": "751e3ea7",
   "metadata": {},
   "outputs": [],
   "source": []
  },
  {
   "cell_type": "code",
   "execution_count": null,
   "id": "856d2f04",
   "metadata": {},
   "outputs": [],
   "source": []
  },
  {
   "cell_type": "code",
   "execution_count": null,
   "id": "407bd994",
   "metadata": {},
   "outputs": [],
   "source": []
  },
  {
   "cell_type": "code",
   "execution_count": null,
   "id": "f502fcfb",
   "metadata": {},
   "outputs": [],
   "source": []
  },
  {
   "cell_type": "code",
   "execution_count": null,
   "id": "f8506cc8",
   "metadata": {},
   "outputs": [],
   "source": []
  },
  {
   "cell_type": "code",
   "execution_count": null,
   "id": "806e54cb",
   "metadata": {},
   "outputs": [],
   "source": []
  },
  {
   "cell_type": "code",
   "execution_count": null,
   "id": "6f0bf2cf",
   "metadata": {},
   "outputs": [],
   "source": []
  },
  {
   "cell_type": "code",
   "execution_count": null,
   "id": "a6ee3474",
   "metadata": {},
   "outputs": [],
   "source": []
  },
  {
   "cell_type": "code",
   "execution_count": null,
   "id": "05d5863c",
   "metadata": {},
   "outputs": [],
   "source": []
  },
  {
   "cell_type": "code",
   "execution_count": null,
   "id": "f8bac536",
   "metadata": {},
   "outputs": [],
   "source": []
  },
  {
   "cell_type": "code",
   "execution_count": null,
   "id": "55ebdabe",
   "metadata": {},
   "outputs": [],
   "source": []
  }
 ],
 "metadata": {
  "kernelspec": {
   "display_name": "Python 3 (ipykernel)",
   "language": "python",
   "name": "python3"
  },
  "language_info": {
   "codemirror_mode": {
    "name": "ipython",
    "version": 3
   },
   "file_extension": ".py",
   "mimetype": "text/x-python",
   "name": "python",
   "nbconvert_exporter": "python",
   "pygments_lexer": "ipython3",
   "version": "3.9.12"
  }
 },
 "nbformat": 4,
 "nbformat_minor": 5
}
